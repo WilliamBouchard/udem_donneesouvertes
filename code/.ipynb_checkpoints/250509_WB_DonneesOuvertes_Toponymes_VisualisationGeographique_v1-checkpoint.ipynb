{
 "cells": [
  {
   "cell_type": "code",
   "execution_count": 199,
   "id": "91488688-3cf6-423d-9e4c-28f80a284ce0",
   "metadata": {},
   "outputs": [],
   "source": [
    "# Import des bibliothèques de code\n",
    "import re\n",
    "import os\n",
    "import time\n",
    "\n",
    "import folium\n",
    "import pandas as pd\n",
    "\n",
    "from folium.plugins import HeatMap\n",
    "from selenium import webdriver\n",
    "from selenium.webdriver.chrome.options import Options\n",
    "from PIL import Image"
   ]
  },
  {
   "cell_type": "code",
   "execution_count": 204,
   "id": "5078c6a9-6181-42ba-838d-76df2a905adc",
   "metadata": {},
   "outputs": [],
   "source": [
    "def screenshot_map(m, filename=\"heatmap\"):\n",
    "    # Sauvegarder temporairement en HTML\n",
    "    m.save(f\"{filename}.html\")\n",
    "    \n",
    "    # Set up headless browser\n",
    "    options = Options()\n",
    "    options.add_argument(\"--headless\")\n",
    "    options.add_argument(\"--window-size=1200,800\")\n",
    "    driver = webdriver.Chrome(options=options)\n",
    "    \n",
    "    # Charger la carte\n",
    "    driver.get(\"file://\" + os.path.abspath(f\"{filename}_temp.html\"))\n",
    "    time.sleep(3)  # Attendre qu'elle charge\n",
    "    \n",
    "    # Prendre une capture d'écran Infractions entrainant la mort\n",
    "    driver.save_screenshot(f\"{filename}_full_temp.png\")\n",
    "    driver.quit()\n",
    "\n",
    "    # Couper environ 50 px des côtés pour retirer le UI de la capture\n",
    "    img = Image.open(f\"{filename}_full.png\")\n",
    "    width, height = img.size\n",
    "    cropped = img.crop((50, 0, width - 50, height))\n",
    "    cropped.save(f\"figures/{filename}.png\")\n",
    "    \n",
    "    # Supprimer fichiers temporaires\n",
    "    os.remove(f\"{filename}_temp.html\")\n",
    "    os.remove(f\"{filename}_full_temp.png\")"
   ]
  },
  {
   "cell_type": "code",
   "execution_count": 192,
   "id": "2b552d55-5d63-473b-8591-caf3f35ffcd9",
   "metadata": {},
   "outputs": [],
   "source": [
    "def create_heatmap_from_data(df, map_center, lang_filter= list()):\n",
    "    filtered_df = df[df['Origine_linguistique'].isin(lang_filter)] if lang_filter else df\n",
    "    m = folium.Map(location=map_center, zoom_start=6)\n",
    "    heat_data = filtered_df[['Latitude', 'Longitude']].values.tolist()\n",
    "    HeatMap(heat_data, radius=15, blur=10, max_zoom=1, min_opacity=0.3).add_to(m)\n",
    "    return m"
   ]
  },
  {
   "cell_type": "code",
   "execution_count": 193,
   "id": "ce0b058f-cfaf-490b-b640-d8f312f98df4",
   "metadata": {},
   "outputs": [],
   "source": [
    "# Import des données\n",
    "df = pd.read_csv('donnees/250505_DQ_DonneesOuvertes_ToponymesDesofficialises_TableDonnees_v1.csv')  \n",
    "\n",
    "# Calcul du centre de la carte (moyenne de toutes les coordonnées)\n",
    "map_center = [df['Latitude'].mean(), df['Longitude'].mean()]\n",
    "\n",
    "# Déclaration des filtres de langue\n",
    "langues_autochtones = [\n",
    "    'Langue amérindienne indéterminée', 'Abénaquis', 'Algonquin', 'Attikamek',\n",
    "    'Cri', 'Malécite', 'Micmac', 'Innu', 'Mohawk', 'Naskapis', 'Wendat', 'Inuktitut'\n",
    "]\n",
    "langues_coloniales = [\"Français\", \"Anglais\"]"
   ]
  },
  {
   "cell_type": "code",
   "execution_count": 194,
   "id": "8a06e99f-6e3c-4b55-aae5-9d6b2e4e3f82",
   "metadata": {},
   "outputs": [],
   "source": [
    "# Créer les cartes pour chaque analyse qui nous intéresse\n",
    "m = create_heatmap_from_data(df, map_center)\n",
    "m2 = create_heatmap_from_data(df, map_center, lang_filter=langues_autochtones)\n",
    "m3 = create_heatmap_from_data(df, map_center, lang_filter=langues_coloniales)"
   ]
  },
  {
   "cell_type": "code",
   "execution_count": 202,
   "id": "5b65a8e5-659e-4d65-8498-3825230a3ec0",
   "metadata": {},
   "outputs": [],
   "source": [
    "#Créer les captures d'écran des trois cartes\n",
    "screenshot_map(m, filename=\"250509_WB_DonneesOuvertes_Toponymes_HeatmapComplete_v1\")\n",
    "screenshot_map(m2, filename=\"250509_WB_DonneesOuvertes_Toponymes_HeatmapLanguesAutochtones_v1\")\n",
    "screenshot_map(m3, filename=\"250509_WB_DonneesOuvertes_Toponymes_HeatmapFrancaisAnglais_v1\")"
   ]
  }
 ],
 "metadata": {
  "kernelspec": {
   "display_name": "Python 3 (ipykernel)",
   "language": "python",
   "name": "python3"
  },
  "language_info": {
   "codemirror_mode": {
    "name": "ipython",
    "version": 3
   },
   "file_extension": ".py",
   "mimetype": "text/x-python",
   "name": "python",
   "nbconvert_exporter": "python",
   "pygments_lexer": "ipython3",
   "version": "3.10.12"
  }
 },
 "nbformat": 4,
 "nbformat_minor": 5
}
